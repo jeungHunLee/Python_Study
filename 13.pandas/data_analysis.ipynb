{
 "cells": [
  {
   "cell_type": "code",
   "execution_count": 7,
   "outputs": [
    {
     "name": "stdout",
     "output_type": "stream",
     "text": [
      "                   A         B         C\n",
      "2018-05-21  1.012144  1.516255  2.393004\n",
      "2018-05-22  0.402198  0.351067 -0.524346\n",
      "2018-05-23  1.183729  0.335349  0.902543\n",
      "2018-05-24 -0.094039 -0.390270 -0.334102\n",
      "2018-05-25  0.797149  0.538151  1.823912\n",
      "                   A         B         C\n",
      "2018-08-24  0.356247 -0.530241  1.265906\n",
      "2018-08-25  0.618309  0.850126  0.508600\n",
      "2018-08-26 -0.997217  0.307789 -2.021497\n",
      "2018-08-27  0.585040  0.333113 -1.048251\n",
      "2018-08-28  1.188792  0.254592 -0.548493\n",
      "<class 'pandas.core.frame.DataFrame'>\n",
      "DatetimeIndex: 100 entries, 2018-05-21 to 2018-08-28\n",
      "Freq: D\n",
      "Data columns (total 3 columns):\n",
      " #   Column  Non-Null Count  Dtype  \n",
      "---  ------  --------------  -----  \n",
      " 0   A       100 non-null    float64\n",
      " 1   B       100 non-null    float64\n",
      " 2   C       100 non-null    float64\n",
      "dtypes: float64(3)\n",
      "memory usage: 3.1 KB\n",
      "None\n",
      "(100, 3)\n"
     ]
    }
   ],
   "source": [
    "import numpy as np\n",
    "import pandas as pd\n",
    "\n",
    "dates = pd.date_range('20180521', periods=100)\n",
    "df = pd.DataFrame(np.random.randn(100, 3), index=dates, columns=list('ABC'))\n",
    "\n",
    "print(df.head())    # 상위 5행 출력\n",
    "print(df.tail())    # 하위 5행 출력\n",
    "print(df.info())    # 데이터 정보\n",
    "print(df.shape)    # 데이터 shape"
   ],
   "metadata": {
    "collapsed": false
   }
  },
  {
   "cell_type": "code",
   "execution_count": 10,
   "outputs": [
    {
     "name": "stdout",
     "output_type": "stream",
     "text": [
      "              Year    Points\n",
      "count     5.000000  5.000000\n",
      "mean   2014.600000  2.440000\n",
      "std       1.140175  0.844393\n",
      "min    2013.000000  1.500000\n",
      "25%    2014.000000  1.800000\n",
      "50%    2015.000000  2.400000\n",
      "75%    2015.000000  2.900000\n",
      "max    2016.000000  3.600000\n"
     ]
    }
   ],
   "source": [
    "import pandas as pd\n",
    "\n",
    "data = {'Name': ['Lee', 'Lee', 'Choi', 'Kim', 'Park'],\n",
    "        'Year': [2013, 2014, 2015, 2016, 2015],\n",
    "        'Points': [1.5, 1.8, 3.6, 2.4, 2.9]}\n",
    "df = pd.DataFrame(data)\n",
    "print(df.describe())"
   ],
   "metadata": {
    "collapsed": false,
    "pycharm": {
     "name": "#%%ㄱ\n"
    }
   }
  },
  {
   "cell_type": "code",
   "execution_count": 11,
   "outputs": [
    {
     "name": "stdout",
     "output_type": "stream",
     "text": [
      "                   A         B         C\n",
      "2018-05-21 -0.127306  0.470966  0.987115\n",
      "2018-05-22 -0.769859 -0.716165 -0.743849\n",
      "2018-05-23  0.857014  0.684103 -0.393084\n",
      "2018-05-24 -1.939917  0.872742  0.133226\n",
      "   2018-05-21  2018-05-22  2018-05-23  2018-05-24\n",
      "A   -0.127306   -0.769859    0.857014   -1.939917\n",
      "B    0.470966   -0.716165    0.684103    0.872742\n",
      "C    0.987115   -0.743849   -0.393084    0.133226\n"
     ]
    }
   ],
   "source": [
    "import numpy as np\n",
    "import pandas as pd\n",
    "\n",
    "dates = pd.date_range('20180521', periods=4)\n",
    "df = pd.DataFrame(np.random.randn(4, 3), index=dates, columns=list('ABC'))\n",
    "print(df)\n",
    "print(df.T)    # 전치"
   ],
   "metadata": {
    "collapsed": false
   }
  },
  {
   "cell_type": "code",
   "execution_count": 18,
   "outputs": [
    {
     "name": "stdout",
     "output_type": "stream",
     "text": [
      "Lee     2\n",
      "Choi    1\n",
      "Kim     1\n",
      "Park    1\n",
      "Name: Name, dtype: int64\n",
      "[2013 2014 2015 2016]\n"
     ]
    }
   ],
   "source": [
    "import pandas as pd\n",
    "\n",
    "data = {'Name': ['Lee', 'Lee', 'Choi', 'Kim', 'Park'],\n",
    "        'Year': [2013, 2014, 2015, 2016, 2015],\n",
    "        'Points': [1.5, 1.8, 3.6, 2.4, 2.9]}\n",
    "df = pd.DataFrame(data)\n",
    "print(df['Name'].value_counts())    # 'Name' 열에 대한 빈도\n",
    "print(df['Year'].unique())    # 'Year; 열에 해당하는 중복되지 않은 데이터"
   ],
   "metadata": {
    "collapsed": false
   }
  },
  {
   "cell_type": "code",
   "execution_count": 19,
   "outputs": [
    {
     "name": "stdout",
     "output_type": "stream",
     "text": [
      "0    False\n",
      "1    False\n",
      "2    False\n",
      "3    False\n",
      "4    False\n",
      "Name: Name, dtype: bool\n"
     ]
    }
   ],
   "source": [
    "import pandas as pd\n",
    "\n",
    "data = {'Name': ['Lee', 'Lee', 'Choi', 'Kim', 'Park'],\n",
    "        'Year': [2013, 2014, 2015, 2016, 2015],\n",
    "        'Points': [1.5, 1.8, 3.6, 2.4, 2.9]}\n",
    "df = pd.DataFrame(data)\n",
    "print(df['Name'].isin(['Kin']))    # 데이터 존재 여부 확인"
   ],
   "metadata": {
    "collapsed": false
   }
  },
  {
   "cell_type": "code",
   "execution_count": 20,
   "outputs": [
    {
     "name": "stdout",
     "output_type": "stream",
     "text": [
      "  Name  Year  Points\n",
      "0  Lee  2013     1.5\n",
      "1  Lee  2014     1.8\n",
      "3  Kim  2016     2.4\n"
     ]
    }
   ],
   "source": [
    "import pandas as pd\n",
    "\n",
    "data = {'Name': ['Lee', 'Lee', 'Choi', 'Kim', 'Park'],\n",
    "        'Year': [2013, 2014, 2015, 2016, 2015],\n",
    "        'Points': [1.5, 1.8, 3.6, 2.4, 2.9]}\n",
    "df = pd.DataFrame(data)\n",
    "print(df.loc[df['Name'].isin(['Kim', 'Lee']), :])"
   ],
   "metadata": {
    "collapsed": false
   }
  },
  {
   "cell_type": "code",
   "execution_count": 22,
   "outputs": [
    {
     "name": "stdout",
     "output_type": "stream",
     "text": [
      "                   A         B         C    D\n",
      "2020-10-21 -0.644664  0.729571  0.356978  1.0\n",
      "2020-10-22  0.467251 -0.503922  0.495535  NaN\n",
      "2020-10-23 -0.777823  0.432374 -0.689178  3.5\n",
      "2020-10-24 -0.018017  0.413657  1.724565  6.1\n",
      "2020-10-25  0.137835  0.257010 -1.325275  NaN\n",
      "2020-10-26  0.283696 -0.051217 -0.107971  7.0\n",
      "                A      B      C      D\n",
      "2020-10-21  False  False  False  False\n",
      "2020-10-22  False  False  False   True\n",
      "2020-10-23  False  False  False  False\n",
      "2020-10-24  False  False  False  False\n",
      "2020-10-25  False  False  False   True\n",
      "2020-10-26  False  False  False  False\n"
     ]
    }
   ],
   "source": [
    "import pandas as pd\n",
    "\n",
    "dates = pd.date_range('20201021', periods=6)\n",
    "df = pd.DataFrame(np.random.randn(6, 3), index=dates, columns=list('ABC'))\n",
    "df['D'] = [1.0, np.nan, 3.5, 6.1, np.nan, 7.0]\n",
    "print(df)\n",
    "print(df.isnull())    # 데이터에서 nan가 있는지 확인"
   ],
   "metadata": {
    "collapsed": false
   }
  },
  {
   "cell_type": "code",
   "execution_count": 24,
   "outputs": [
    {
     "name": "stdout",
     "output_type": "stream",
     "text": [
      "                   A         B         C    D\n",
      "2020-10-21  1.198087 -1.338725 -0.630431  1.0\n",
      "2020-10-22  0.918565 -1.180561  1.972761  NaN\n",
      "2020-10-23  2.561080 -0.235845 -0.383591  3.5\n",
      "2020-10-24  0.513588 -0.129417  0.321331  NaN\n",
      "                   A         B         C    D\n",
      "2020-10-21  1.198087 -1.338725 -0.630431  1.0\n",
      "2020-10-23  2.561080 -0.235845 -0.383591  3.5\n"
     ]
    }
   ],
   "source": [
    "import pandas as pd\n",
    "\n",
    "dates = pd.date_range('20201021', periods=4)\n",
    "df = pd.DataFrame(np.random.randn(4, 3), index=dates, columns=list('ABC'))\n",
    "df['D'] = [1.0, np.nan, 3.5, np.nan]\n",
    "print(df)\n",
    "print(df.dropna(how='any'))     # nan이 하나라도 있으면 삭제"
   ],
   "metadata": {
    "collapsed": false
   }
  },
  {
   "cell_type": "code",
   "execution_count": 25,
   "outputs": [
    {
     "name": "stdout",
     "output_type": "stream",
     "text": [
      "                   A         B         C    D\n",
      "2020-10-21 -0.149936 -0.388464  0.553663  1.0\n",
      "2020-10-22  0.621684  1.762219  0.192358  NaN\n",
      "2020-10-23 -1.226308 -0.702997 -0.910291  3.5\n",
      "2020-10-24 -0.524846  0.309325  1.045785  NaN\n",
      "                   A         B         C    D\n",
      "2020-10-21 -0.149936 -0.388464  0.553663  1.0\n",
      "2020-10-22  0.621684  1.762219  0.192358  NaN\n",
      "2020-10-23 -1.226308 -0.702997 -0.910291  3.5\n",
      "2020-10-24 -0.524846  0.309325  1.045785  NaN\n"
     ]
    }
   ],
   "source": [
    "import pandas as pd\n",
    "\n",
    "dates = pd.date_range('20201021', periods=4)\n",
    "df = pd.DataFrame(np.random.randn(4, 3), index=dates, columns=list('ABC'))\n",
    "df['D'] = [1.0, np.nan, 3.5, np.nan]\n",
    "print(df)\n",
    "print(df.dropna(how='all'))     # 모든 데이터가 nan일 경우 삭제"
   ],
   "metadata": {
    "collapsed": false
   }
  },
  {
   "cell_type": "code",
   "execution_count": 26,
   "outputs": [
    {
     "name": "stdout",
     "output_type": "stream",
     "text": [
      "                   A         B         C    D\n",
      "2020-10-21  1.272361 -0.287661 -0.993650  1.0\n",
      "2020-10-22 -1.274898 -0.587097  0.224059  NaN\n",
      "2020-10-23 -0.581228  1.148964 -0.077418  3.5\n",
      "2020-10-24  1.432388  0.299548 -1.094593  NaN\n",
      "                   A         B         C     D\n",
      "2020-10-21  1.272361 -0.287661 -0.993650  1.00\n",
      "2020-10-22 -1.274898 -0.587097  0.224059  0.05\n",
      "2020-10-23 -0.581228  1.148964 -0.077418  3.50\n",
      "2020-10-24  1.432388  0.299548 -1.094593  0.05\n"
     ]
    }
   ],
   "source": [
    "import pandas as pd\n",
    "\n",
    "dates = pd.date_range('20201021', periods=4)\n",
    "df = pd.DataFrame(np.random.randn(4, 3), index=dates, columns=list('ABC'))\n",
    "df['D'] = [1.0, np.nan, 3.5, np.nan]\n",
    "print(df)\n",
    "print(df.fillna(value=0.05))     # 누락된 데이터를 대체"
   ],
   "metadata": {
    "collapsed": false
   }
  },
  {
   "cell_type": "code",
   "execution_count": 32,
   "outputs": [
    {
     "name": "stdout",
     "output_type": "stream",
     "text": [
      "                   A         B         C         D    E\n",
      "2018-05-21 -0.889324 -0.255661  1.076026  0.198268  1.0\n",
      "2018-05-22  2.428356 -1.305320  0.367724 -2.501947  1.0\n",
      "2018-05-23  0.778173  0.171287 -1.376218 -0.165784  NaN\n",
      "2018-05-24 -1.069885 -0.471860 -0.784826  0.724096  NaN\n",
      "                   A         B         C         D    E\n",
      "2018-05-21 -0.889324 -0.255661  1.076026  0.198268  1.0\n",
      "2018-05-22  2.428356 -1.305320  0.367724 -2.501947  1.0\n"
     ]
    }
   ],
   "source": [
    "import pandas as pd\n",
    "import numpy as np\n",
    "\n",
    "dates = pd.date_range('20180521', periods=6)\n",
    "df = pd.DataFrame(np.random.randn(6, 4), index=dates, columns=list('ABCD'))\n",
    "\n",
    "df = df.reindex(index=dates[:4], columns=list(df.columns) + ['E'])\n",
    "df.loc[:dates[1], 'E'] = 1.0\n",
    "print(df)\n",
    "df2 = df.dropna(how='any')\n",
    "print(df2)"
   ],
   "metadata": {
    "collapsed": false
   }
  },
  {
   "cell_type": "code",
   "execution_count": 33,
   "outputs": [
    {
     "name": "stdout",
     "output_type": "stream",
     "text": [
      "                   A         B         C         D    E\n",
      "2018-05-21 -0.707356  0.231899 -1.493008  0.373580  1.0\n",
      "2018-05-22 -0.230797  0.987105  0.185935 -0.700080  1.0\n",
      "2018-05-23 -0.302656 -1.196895  0.572495 -0.437410  NaN\n",
      "2018-05-24 -1.034923  0.407008  0.195801  1.907244  NaN\n",
      "                   A         B         C         D    E\n",
      "2018-05-21 -0.707356  0.231899 -1.493008  0.373580  1.0\n",
      "2018-05-22 -0.230797  0.987105  0.185935 -0.700080  1.0\n",
      "2018-05-23 -0.302656 -1.196895  0.572495 -0.437410  5.0\n",
      "2018-05-24 -1.034923  0.407008  0.195801  1.907244  5.0\n"
     ]
    }
   ],
   "source": [
    "import pandas as pd\n",
    "import numpy as np\n",
    "\n",
    "dates = pd.date_range('20180521', periods=6)\n",
    "df = pd.DataFrame(np.random.randn(6, 4), index=dates, columns=list('ABCD'))\n",
    "\n",
    "df = df.reindex(index=dates[:4], columns=list(df.columns) + ['E'])\n",
    "df.loc[:dates[1], 'E'] = 1.0\n",
    "print(df)\n",
    "df2 = df.fillna(value=5)\n",
    "print(df2)"
   ],
   "metadata": {
    "collapsed": false
   }
  },
  {
   "cell_type": "code",
   "execution_count": 35,
   "outputs": [
    {
     "name": "stdout",
     "output_type": "stream",
     "text": [
      "                   A         B         C    D\n",
      "2020-10-21 -0.893255 -0.700996 -0.371543  1.0\n",
      "2020-10-22  0.162731  0.196334 -1.094654  NaN\n",
      "2020-10-23  0.440054  1.522542 -0.893787  3.5\n",
      "2020-10-24 -2.492726  0.612651  1.522731  6.1\n",
      "2020-10-25 -0.677016 -0.150322  0.007257  NaN\n",
      "2020-10-26 -0.263043  0.357608  0.470804  7.0\n",
      "rows = 6, rows = 6, cols = 4\n"
     ]
    }
   ],
   "source": [
    "import numpy as np\n",
    "import pandas as pd\n",
    "\n",
    "dates = pd.date_range('20201021', periods=6)\n",
    "df = pd.DataFrame(np.random.randn(6, 3), index=dates, columns=list('ABC'))\n",
    "df['D'] = [1., np.nan, 3.5, 6.1, np.nan, 7.]\n",
    "print(df)\n",
    "print(f'rows = {len(df)}, rows = {df.shape[0]}, cols = {df.shape[1]}')"
   ],
   "metadata": {
    "collapsed": false
   }
  },
  {
   "cell_type": "code",
   "execution_count": 36,
   "outputs": [
    {
     "name": "stdout",
     "output_type": "stream",
     "text": [
      "                   A         B         C    D\n",
      "2020-10-21 -0.054504  2.878820 -1.290003  1.0\n",
      "2020-10-22  0.089492 -1.503995 -1.950788  NaN\n",
      "2020-10-23 -0.160094  1.028614  1.415072  3.5\n",
      "2020-10-24 -0.432809  0.177694  1.628527  6.1\n",
      "2020-10-25 -0.707597  0.479116  0.384814  NaN\n",
      "2020-10-26  0.368162 -0.253885 -0.741766  7.0\n",
      "A    -0.897350\n",
      "B     2.806365\n",
      "C    -0.554144\n",
      "D    17.600000\n",
      "dtype: float64\n"
     ]
    }
   ],
   "source": [
    "import numpy as np\n",
    "import pandas as pd\n",
    "\n",
    "dates = pd.date_range('20201021', periods = 6)\n",
    "df = pd.DataFrame(np.random.randn(6, 3), index=dates, columns=list('ABC'))\n",
    "df['D'] = [1., np.nan, 3.5, 6.1, np.nan, 7.]\n",
    "print(df)\n",
    "print(df.sum(axis=0))    # axis=0 방향 value 합(nan는 제외한 합)"
   ],
   "metadata": {
    "collapsed": false
   }
  },
  {
   "cell_type": "code",
   "execution_count": 38,
   "outputs": [
    {
     "name": "stdout",
     "output_type": "stream",
     "text": [
      "                   A         B         C    D\n",
      "2020-10-21  0.928806  0.984609  0.659224  1.0\n",
      "2020-10-22 -0.258863  1.674635  0.089504  NaN\n",
      "2020-10-23 -0.916227  0.112376  0.511245  3.5\n",
      "2020-10-24 -1.012549 -0.545258  0.638895  6.1\n",
      "2020-10-25  0.730762 -0.059079  1.611535  NaN\n",
      "2020-10-26  1.119381  0.988526 -0.843256  7.0\n",
      "A    6\n",
      "B    6\n",
      "C    6\n",
      "D    4\n",
      "dtype: int64\n"
     ]
    }
   ],
   "source": [
    "import numpy as np\n",
    "import pandas as pd\n",
    "\n",
    "dates = pd.date_range('20201021', periods=6)\n",
    "df = pd.DataFrame(np.random.randn(6, 3), index=dates, columns=list('ABC'))\n",
    "df['D'] = [1., np.nan, 3.5, 6.1, np.nan, 7.]\n",
    "print(df)\n",
    "print(df.count())    # 각 열의 데이터 개수"
   ],
   "metadata": {
    "collapsed": false
   }
  },
  {
   "cell_type": "code",
   "execution_count": 39,
   "outputs": [
    {
     "name": "stdout",
     "output_type": "stream",
     "text": [
      "                   A         B         C    D\n",
      "2020-10-21  0.155843  1.859092  0.209666  1.0\n",
      "2020-10-22  1.020761 -0.772257  0.822723  NaN\n",
      "2020-10-23 -0.995383  1.715196 -0.154650  3.5\n",
      "2020-10-24 -0.121127  1.114284 -0.052737  6.1\n",
      "2020-10-25  0.502245 -1.883588  0.474006  NaN\n",
      "2020-10-26 -0.832398  0.785480  0.558960  7.0\n",
      "2020-10-21    0.604833\n",
      "2020-10-22    0.822723\n",
      "2020-10-23    0.780273\n",
      "2020-10-24    0.530774\n",
      "2020-10-25    0.474006\n",
      "2020-10-26    0.672220\n",
      "Freq: D, dtype: float64\n"
     ]
    }
   ],
   "source": [
    "import numpy as np\n",
    "import pandas as pd\n",
    "\n",
    "dates = pd.date_range('20201021', periods=6)\n",
    "df = pd.DataFrame(np.random.randn(6, 3), index=dates, columns=list('ABC'))\n",
    "df['D'] = [1., np.nan, 3.5, 6.1, np.nan, 7.]\n",
    "print(df)\n",
    "print(df.median(axis=1))    # axis=1 방향 중앙값"
   ],
   "metadata": {
    "collapsed": false
   }
  },
  {
   "cell_type": "code",
   "execution_count": 43,
   "outputs": [
    {
     "name": "stdout",
     "output_type": "stream",
     "text": [
      "mean = 0.7754109547454083\n",
      "std = 0.9803038116084041\n",
      "correlation = -0.006849793841710737\n",
      "covariance = 0.27899005566126844\n"
     ]
    }
   ],
   "source": [
    "import numpy as np\n",
    "import pandas as pd\n",
    "\n",
    "dates = pd.date_range('20201021', periods=6)\n",
    "df = pd.DataFrame(np.random.randn(6, 3), index=dates, columns=list('ABC'))\n",
    "df['D'] = [1., np.nan, 3.5, 6.1, np.nan, 7.]\n",
    "\n",
    "print(f'mean = {df[\"A\"].mean()}')    # 'A'열 평균\n",
    "print(f'std = {df[\"A\"].std()}')    # 'A'열 표준편차\n",
    "print(f'correlation = {df[\"A\"].corr(df[\"B\"])}')    # 상관관계\n",
    "print(f'covariance = {df[\"B\"].cov(df[\"C\"])}')    # 공분산"
   ],
   "metadata": {
    "collapsed": false
   }
  },
  {
   "cell_type": "code",
   "execution_count": 44,
   "outputs": [
    {
     "name": "stdout",
     "output_type": "stream",
     "text": [
      "0    a\n",
      "1    b\n",
      "0    c\n",
      "1    d\n",
      "dtype: object\n"
     ]
    }
   ],
   "source": [
    "import numpy as np\n",
    "import pandas as pd\n",
    "\n",
    "s1 = pd.Series(['a', 'b'])\n",
    "s2 = pd.Series(['c', 'd'])\n",
    "df = pd.concat([s1, s2])    # 두 Series 병합\n",
    "print(df)"
   ],
   "metadata": {
    "collapsed": false
   }
  },
  {
   "cell_type": "code",
   "execution_count": 45,
   "outputs": [
    {
     "name": "stdout",
     "output_type": "stream",
     "text": [
      "   A  B\n",
      "0  a  1\n",
      "1  b  2\n",
      "2  a  1\n",
      "3  b  2\n"
     ]
    }
   ],
   "source": [
    "import pandas as pd\n",
    "\n",
    "df1 = pd.DataFrame([['a', 1], ['b', 2]], columns=list('AB'))\n",
    "df2 = pd.DataFrame([['a', 1], ['b', 2]], columns=list('AB'))\n",
    "df3 = pd.concat([df1, df2], ignore_index=True)    # axis=0(default)\n",
    "print(df3)"
   ],
   "metadata": {
    "collapsed": false
   }
  },
  {
   "cell_type": "code",
   "execution_count": 49,
   "outputs": [
    {
     "name": "stdout",
     "output_type": "stream",
     "text": [
      "   A  B  A  B\n",
      "0  a  1  a  1\n",
      "1  b  2  b  2\n"
     ]
    }
   ],
   "source": [
    "import pandas as pd\n",
    "\n",
    "df1 = pd.DataFrame([['a', 1], ['b', 2]], columns=list('AB'))\n",
    "df2 = pd.DataFrame([['a', 1], ['b', 2]], columns=list('AB'))\n",
    "df3 = pd.concat([df1, df2], axis=1)\n",
    "print(df3)"
   ],
   "metadata": {
    "collapsed": false
   }
  },
  {
   "cell_type": "code",
   "execution_count": 50,
   "outputs": [
    {
     "name": "stdout",
     "output_type": "stream",
     "text": [
      "     A    B    A    B\n",
      "0    a  1.0  NaN  NaN\n",
      "1    b  2.0    a  1.0\n",
      "2    c  3.0    b  2.0\n",
      "3  NaN  NaN    c  3.0\n"
     ]
    }
   ],
   "source": [
    "import pandas as pd\n",
    "\n",
    "df1 = pd.DataFrame([['a', 1], ['b', 2], ['c', 3]], index=[0, 1, 2], columns=list('AB'))\n",
    "df2 = pd.DataFrame([['a', 1], ['b', 2], ['c', 3]], index=[1, 2, 3], columns=list('AB'))\n",
    "df3 = pd.concat([df1, df2], axis=1)    # outer join\n",
    "print(df3)"
   ],
   "metadata": {
    "collapsed": false
   }
  },
  {
   "cell_type": "code",
   "execution_count": 53,
   "outputs": [
    {
     "name": "stdout",
     "output_type": "stream",
     "text": [
      "   A  B  A  B\n",
      "1  b  2  a  1\n",
      "2  c  3  b  2\n"
     ]
    }
   ],
   "source": [
    "import pandas as pd\n",
    "\n",
    "df1 = pd.DataFrame([['a', 1], ['b', 2], ['c', 3]], index=[0, 1, 2], columns=list('AB'))\n",
    "df2 = pd.DataFrame([['a', 1], ['b', 2], ['c', 3]], index=[1, 2, 3], columns=list('AB'))\n",
    "df3 = pd.concat([df1, df2], axis=1, join='inner')    # inner join\n",
    "print(df3)"
   ],
   "metadata": {
    "collapsed": false
   }
  },
  {
   "cell_type": "code",
   "execution_count": 54,
   "outputs": [
    {
     "name": "stdout",
     "output_type": "stream",
     "text": [
      "     a  b  c\n",
      "0  foo  1  3\n"
     ]
    }
   ],
   "source": [
    "import pandas as pd\n",
    "\n",
    "df1 = pd.DataFrame({'a': ['foo', 'bar'], 'b': [1, 2]})\n",
    "df2 = pd.DataFrame({'a': ['foo', 'baz'], 'c': [3, 4]})\n",
    "df3 = pd.merge(df1, df2, how='inner', on='a')    # a 열에서 공통된것을 기준으로 병합\n",
    "print(df3)"
   ],
   "metadata": {
    "collapsed": false
   }
  },
  {
   "cell_type": "code",
   "execution_count": 56,
   "outputs": [
    {
     "name": "stdout",
     "output_type": "stream",
     "text": [
      "     a  b    c\n",
      "0  foo  1  3.0\n",
      "1  bar  2  NaN\n"
     ]
    }
   ],
   "source": [
    "import pandas as pd\n",
    "\n",
    "df1 = pd.DataFrame({'a': ['foo', 'bar'], 'b': [1, 2]})\n",
    "df2 = pd.DataFrame({'a': ['foo', 'baz'], 'c': [3, 4]})\n",
    "df3 = pd.merge(df1, df2, how='left', on='a')\n",
    "print(df3)"
   ],
   "metadata": {
    "collapsed": false
   }
  },
  {
   "cell_type": "code",
   "execution_count": 58,
   "outputs": [
    {
     "name": "stdout",
     "output_type": "stream",
     "text": [
      "     a    b  c\n",
      "0  foo  1.0  3\n",
      "1  baz  NaN  4\n"
     ]
    }
   ],
   "source": [
    "import pandas as pd\n",
    "\n",
    "df1 = pd.DataFrame({'a': ['foo', 'bar'], 'b': [1, 2]})\n",
    "df2 = pd.DataFrame({'a': ['foo', 'baz'], 'c': [3, 4]})\n",
    "df3 = pd.merge(df1, df2, how='right', on='a')\n",
    "print(df3)"
   ],
   "metadata": {
    "collapsed": false
   }
  },
  {
   "cell_type": "code",
   "execution_count": 59,
   "outputs": [
    {
     "name": "stdout",
     "output_type": "stream",
     "text": [
      "     a    b    c\n",
      "0  foo  1.0  3.0\n",
      "1  bar  2.0  NaN\n",
      "2  baz  NaN  4.0\n"
     ]
    }
   ],
   "source": [
    "import pandas as pd\n",
    "\n",
    "df1 = pd.DataFrame({'a': ['foo', 'bar'], 'b': [1, 2]})\n",
    "df2 = pd.DataFrame({'a': ['foo', 'baz'], 'c': [3, 4]})\n",
    "df3 = pd.merge(df1, df2, how='outer', on='a')\n",
    "print(df3)"
   ],
   "metadata": {
    "collapsed": false
   }
  },
  {
   "cell_type": "code",
   "execution_count": 62,
   "outputs": [
    {
     "name": "stdout",
     "output_type": "stream",
     "text": [
      "   foo bar  baz zoo\n",
      "0  one   A    1   x\n",
      "1  one   B    2   y\n",
      "2  one   C    3   z\n",
      "3  two   A    4   q\n",
      "4  two   B    5   w\n",
      "5  two   C    6   t\n",
      "bar  A  B  C\n",
      "foo         \n",
      "one  1  2  3\n",
      "two  4  5  6\n"
     ]
    }
   ],
   "source": [
    "import pandas as pd\n",
    "\n",
    "df = pd.DataFrame({'foo': ['one', 'one', 'one', 'two', 'two', 'two'],\n",
    "                   'bar': ['A', 'B', 'C', 'A', 'B', 'C'],\n",
    "                   'baz': [1, 2, 3, 4, 5, 6],\n",
    "                   'zoo': ['x', 'y', 'z', 'q', 'w', 't']})\n",
    "print(df)\n",
    "print(df.pivot(index='foo', columns='bar', values='baz'))"
   ],
   "metadata": {
    "collapsed": false
   }
  },
  {
   "cell_type": "code",
   "execution_count": 65,
   "outputs": [
    {
     "name": "stdout",
     "output_type": "stream",
     "text": [
      "   foo bar  baz zoo\n",
      "0  one   A    1   x\n",
      "1  one   B    2   y\n",
      "2  one   C    3   z\n",
      "3  two   A    4   q\n",
      "4  two   B    5   w\n",
      "5  two   C    6   t\n",
      "    baz       zoo      \n",
      "bar   A  B  C   A  B  C\n",
      "foo                    \n",
      "one   1  2  3   x  y  z\n",
      "two   4  5  6   q  w  t\n"
     ]
    }
   ],
   "source": [
    "import pandas as pd\n",
    "\n",
    "df = pd.DataFrame({'foo': ['one', 'one', 'one', 'two', 'two', 'two'],\n",
    "                   'bar': ['A', 'B', 'C', 'A', 'B', 'C'],\n",
    "                   'baz': [1, 2, 3, 4, 5, 6],\n",
    "                   'zoo': ['x', 'y', 'z', 'q', 'w', 't']})\n",
    "print(df)\n",
    "print(df.pivot(index='foo', columns='bar', values=['baz', 'zoo']))"
   ],
   "metadata": {
    "collapsed": false
   }
  },
  {
   "cell_type": "code",
   "execution_count": 70,
   "outputs": [
    {
     "name": "stdout",
     "output_type": "stream",
     "text": [
      "sex        female       male\n",
      "class                       \n",
      "First   34.611765  41.281386\n",
      "Second  28.722973  30.740707\n",
      "Third   21.750000  26.507589\n",
      "            mean              sum     \n",
      "sex       female      male female male\n",
      "class                                 \n",
      "First   0.968085  0.368852     91   45\n",
      "Second  0.921053  0.157407     70   17\n",
      "Third   0.500000  0.135447     72   47\n",
      "                    mean                                      max        \\\n",
      "                     age                   fare               age         \n",
      "survived               0          1           0           1     0     1   \n",
      "class  sex                                                                \n",
      "First  female  25.666667  34.939024  110.604167  105.978159  50.0  63.0   \n",
      "       male    44.581967  36.248000   62.894910   74.637320  71.0  80.0   \n",
      "Second female  36.000000  28.080882   18.250000   22.288989  57.0  55.0   \n",
      "       male    33.369048  16.022000   19.488965   21.095100  70.0  62.0   \n",
      "Third  female  23.818182  19.329787   19.773093   12.464526  48.0  63.0   \n",
      "       male    27.255814  22.274211   12.204469   15.579696  74.0  45.0   \n",
      "\n",
      "                                 \n",
      "                 fare            \n",
      "survived            0         1  \n",
      "class  sex                       \n",
      "First  female  151.55  512.3292  \n",
      "       male    263.00  512.3292  \n",
      "Second female   26.00   65.0000  \n",
      "       male     73.50   39.0000  \n",
      "Third  female   69.55   31.3875  \n",
      "       male     69.55   56.4958  \n"
     ]
    }
   ],
   "source": [
    "import pandas as pd\n",
    "import seaborn as sns\n",
    "\n",
    "df = sns.load_dataset('titanic')[['age', 'sex', 'class', 'fare', 'survived']]\n",
    "df1 = pd.pivot_table(df,\n",
    "                     index='class',\n",
    "                     columns='sex',\n",
    "                     values='age',\n",
    "                     aggfunc='mean')\n",
    "df2 = pd.pivot_table(df,\n",
    "                     index='class',\n",
    "                     columns='sex',\n",
    "                     values='survived',\n",
    "                     aggfunc=['mean', 'sum'])\n",
    "df3 = pd.pivot_table(df, index=['class', 'sex'],\n",
    "                     columns='survived',\n",
    "                     values=['age', 'fare'],\n",
    "                     aggfunc=['mean', 'max'])\n",
    "print(df1)\n",
    "print(df2)\n",
    "print(df3)"
   ],
   "metadata": {
    "collapsed": false
   }
  },
  {
   "cell_type": "code",
   "execution_count": 71,
   "outputs": [
    {
     "name": "stdout",
     "output_type": "stream",
     "text": [
      "  col1  col2  col3 col4\n",
      "0    A     2     0    a\n",
      "1    A     1     1    b\n",
      "2    B     9     9    c\n",
      "3  NaN     8     4    d\n",
      "4    D     7     2    e\n",
      "5    C     4     3    f\n",
      "  col1  col2  col3 col4\n",
      "0    A     2     0    a\n",
      "1    A     1     1    b\n",
      "2    B     9     9    c\n",
      "5    C     4     3    f\n",
      "4    D     7     2    e\n",
      "3  NaN     8     4    d\n"
     ]
    }
   ],
   "source": [
    "import numpy as np\n",
    "import pandas as pd\n",
    "\n",
    "df = pd.DataFrame({'col1': ['A', 'A', 'B', np.nan, 'D', 'C'],\n",
    "                   'col2': [2, 1, 9, 8, 7, 4],\n",
    "                   'col3': [0, 1, 9, 4, 2, 3],\n",
    "                   'col4': ['a', 'b', 'c', 'd', 'e', 'f']})\n",
    "print(df)\n",
    "print(df.sort_values(by=['col1']))"
   ],
   "metadata": {
    "collapsed": false
   }
  },
  {
   "cell_type": "code",
   "execution_count": 73,
   "outputs": [
    {
     "name": "stdout",
     "output_type": "stream",
     "text": [
      "  col1  col2  col3 col4\n",
      "0    A     2     0    a\n",
      "1    A     1     1    b\n",
      "2    B     9     9    c\n",
      "3  NaN     8     4    d\n",
      "4    D     7     2    e\n",
      "5    C     4     3    f\n",
      "  col1  col2  col3 col4\n",
      "4    D     7     2    e\n",
      "5    C     4     3    f\n",
      "2    B     9     9    c\n",
      "0    A     2     0    a\n",
      "1    A     1     1    b\n",
      "3  NaN     8     4    d\n"
     ]
    }
   ],
   "source": [
    "import numpy as np\n",
    "import pandas as pd\n",
    "\n",
    "df = pd.DataFrame({'col1': ['A', 'A', 'B', np.nan, 'D', 'C'],\n",
    "                   'col2': [2, 1, 9, 8, 7, 4],\n",
    "                   'col3': [0, 1, 9, 4, 2, 3],\n",
    "                   'col4': ['a', 'b', 'c', 'd', 'e', 'f']})\n",
    "print(df)\n",
    "print(df.sort_values(by=['col1'], ascending=False))    # 내림차순 정렬"
   ],
   "metadata": {
    "collapsed": false
   }
  },
  {
   "cell_type": "code",
   "execution_count": 75,
   "outputs": [
    {
     "name": "stdout",
     "output_type": "stream",
     "text": [
      "  col1  col2  col3 col4\n",
      "0    A     2     0    a\n",
      "1    A     1     1    b\n",
      "2    B     9     9    c\n",
      "3  NaN     8     4    d\n",
      "4    D     7     2    e\n",
      "5    C     4     3    f\n",
      "  col1  col2  col3 col4\n",
      "1    A     1     1    b\n",
      "0    A     2     0    a\n",
      "2    B     9     9    c\n",
      "5    C     4     3    f\n",
      "4    D     7     2    e\n",
      "3  NaN     8     4    d\n"
     ]
    }
   ],
   "source": [
    "import numpy as np\n",
    "import pandas as pd\n",
    "\n",
    "df = pd.DataFrame({'col1': ['A', 'A', 'B', np.nan, 'D', 'C'],\n",
    "                   'col2': [2, 1, 9, 8, 7, 4],\n",
    "                   'col3': [0, 1, 9, 4, 2, 3],\n",
    "                   'col4': ['a', 'b', 'c', 'd', 'e', 'f']})\n",
    "print(df)\n",
    "print(df.sort_values(by=['col1', 'col2']))"
   ],
   "metadata": {
    "collapsed": false
   }
  },
  {
   "cell_type": "code",
   "execution_count": 78,
   "outputs": [
    {
     "name": "stdout",
     "output_type": "stream",
     "text": [
      "   A  B\n",
      "0  1  4\n",
      "1  2  5\n",
      "2  3  6\n",
      "   A  B\n",
      "x  1  4\n",
      "y  2  5\n",
      "z  3  6\n"
     ]
    }
   ],
   "source": [
    "import pandas as pd\n",
    "\n",
    "df = pd.DataFrame({'A': [1, 2, 3], 'B': [4, 5, 6]})\n",
    "print(df)\n",
    "df.rename(index={0: 'x', 1: 'y', 2: 'z'}, inplace=True)\n",
    "print(df)"
   ],
   "metadata": {
    "collapsed": false
   }
  },
  {
   "cell_type": "code",
   "execution_count": 82,
   "outputs": [
    {
     "name": "stdout",
     "output_type": "stream",
     "text": [
      "                   A         B         C    D\n",
      "2020-10-21  0.893860  1.202897 -0.026540  1.0\n",
      "2020-10-22  0.047162  1.719434  0.096999  NaN\n",
      "2020-10-23  1.169692  0.889794  1.744080  3.5\n",
      "2020-10-24  0.736319  0.137537 -0.169602  6.1\n",
      "2020-10-25 -0.000131  1.269436  0.035767  NaN\n",
      "2020-10-26 -0.493270 -0.174648  1.271532  7.0\n"
     ]
    }
   ],
   "source": [
    "import numpy as np\n",
    "import pandas as pd\n",
    "\n",
    "dates = pd.date_range('20201021', periods=6)\n",
    "df = pd.DataFrame(np.random.randn(6, 3), index=dates, columns=list('ABC'))\n",
    "df['D'] = [1.0, np.nan, 3.5, 6.1, np.nan, 7.0]\n",
    "print(df)\n",
    "df.drop(pd.to_datetime('20201023'), inplace=True)"
   ],
   "metadata": {
    "collapsed": false
   }
  },
  {
   "cell_type": "code",
   "execution_count": 83,
   "outputs": [
    {
     "name": "stdout",
     "output_type": "stream",
     "text": [
      "                   A         C\n",
      "2020-10-21  0.766675  0.393412\n",
      "2020-10-22  0.289163  0.715407\n",
      "2020-10-23 -0.283299  1.789546\n",
      "2020-10-24  0.554071  0.555629\n",
      "2020-10-25  0.723594 -0.615902\n",
      "2020-10-26 -0.961564 -0.085970\n"
     ]
    }
   ],
   "source": [
    "import numpy as np\n",
    "import pandas as pd\n",
    "\n",
    "dates = pd.date_range('20201021', periods=6)\n",
    "df = pd.DataFrame(np.random.randn(6, 3), index=dates, columns=list('ABC'))\n",
    "df['D'] = [1.0, np.nan, 3.5, 6.1, np.nan, 7.0]\n",
    "\n",
    "df.drop(['B', 'D'], axis=1, inplace=True)\n",
    "print(df)"
   ],
   "metadata": {
    "collapsed": false
   }
  },
  {
   "cell_type": "code",
   "execution_count": 85,
   "outputs": [
    {
     "name": "stdout",
     "output_type": "stream",
     "text": [
      "  Name  Year  Points\n",
      "0  Lee  2013     1.5\n",
      "1  Kim  2013     1.8\n",
      "2  Lee  2015     3.6\n",
      "3  Kim  2015     2.4\n",
      "4  Kim  2015     2.9\n",
      "        Points\n",
      "Year          \n",
      "2013  1.650000\n",
      "2015  2.966667\n"
     ]
    },
    {
     "name": "stderr",
     "output_type": "stream",
     "text": [
      "/var/folders/5r/d0x0n5s516q87sj_lkd72hkh0000gn/T/ipykernel_19075/1882567848.py:8: FutureWarning: The default value of numeric_only in DataFrameGroupBy.mean is deprecated. In a future version, numeric_only will default to False. Either specify numeric_only or select only columns which should be valid for the function.\n",
      "  print(df.groupby(['Year']).mean())    # 평균\n"
     ]
    }
   ],
   "source": [
    "import pandas as pd\n",
    "\n",
    "data = {'Name': ['Lee', 'Kim', 'Lee', 'Kim', 'Kim'],\n",
    "        'Year': [2013, 2013, 2015, 2015, 2015],\n",
    "        'Points': [1.5, 1.8, 3.6, 2.4, 2.9]}\n",
    "df = pd.DataFrame(data)\n",
    "print(df)\n",
    "print(df.groupby(['Year']).mean())    # 평균"
   ],
   "metadata": {
    "collapsed": false
   }
  },
  {
   "cell_type": "code",
   "execution_count": 86,
   "outputs": [
    {
     "name": "stdout",
     "output_type": "stream",
     "text": [
      "  Name  Year  Points\n",
      "0  Lee  2013     1.5\n",
      "1  Kim  2013     1.8\n",
      "2  Lee  2015     3.6\n",
      "3  Kim  2015     2.4\n",
      "4  Kim  2015     2.9\n",
      "           Points\n",
      "Year Name        \n",
      "2013 Kim     1.80\n",
      "     Lee     1.50\n",
      "2015 Kim     2.65\n",
      "     Lee     3.60\n"
     ]
    }
   ],
   "source": [
    "import pandas as pd\n",
    "\n",
    "data = {'Name': ['Lee', 'Kim', 'Lee', 'Kim', 'Kim'],\n",
    "        'Year': [2013, 2013, 2015, 2015, 2015],\n",
    "        'Points': [1.5, 1.8, 3.6, 2.4, 2.9]}\n",
    "df = pd.DataFrame(data)\n",
    "print(df)\n",
    "print(df.groupby(['Year', 'Name']).mean())    # 평균"
   ],
   "metadata": {
    "collapsed": false
   }
  },
  {
   "cell_type": "code",
   "execution_count": 87,
   "outputs": [
    {
     "name": "stdout",
     "output_type": "stream",
     "text": [
      "                   A         B         C\n",
      "2020-10-21 -0.241895  0.321455 -0.699375\n",
      "2020-10-22  0.106588 -0.535910 -0.081817\n",
      "2020-10-23 -0.033230 -0.539969 -2.004310\n",
      "2020-10-24 -1.634458  0.932679 -0.329572\n",
      "A    1.741047\n",
      "B    1.472647\n",
      "C    1.922493\n",
      "dtype: float64\n"
     ]
    }
   ],
   "source": [
    "import pandas as pd\n",
    "dates = pd.date_range('20201021', periods=4)\n",
    "df = pd.DataFrame(np.random.randn(4, 3), index=dates, columns=list('ABC'))\n",
    "func = lambda x: x.max() - x.min()\n",
    "\n",
    "print(df)\n",
    "print(df.apply(func, axis=0))"
   ],
   "metadata": {
    "collapsed": false
   }
  },
  {
   "cell_type": "code",
   "execution_count": 90,
   "outputs": [
    {
     "name": "stdout",
     "output_type": "stream",
     "text": [
      "     total_bill   tip     sex smoker   day    time  size\n",
      "0         16.99  1.01  Female     No   Sun  Dinner     2\n",
      "1         10.34  1.66    Male     No   Sun  Dinner     3\n",
      "2         21.01  3.50    Male     No   Sun  Dinner     3\n",
      "3         23.68  3.31    Male     No   Sun  Dinner     2\n",
      "4         24.59  3.61  Female     No   Sun  Dinner     4\n",
      "..          ...   ...     ...    ...   ...     ...   ...\n",
      "239       29.03  5.92    Male     No   Sat  Dinner     3\n",
      "240       27.18  2.00  Female    Yes   Sat  Dinner     2\n",
      "241       22.67  2.00    Male    Yes   Sat  Dinner     2\n",
      "242       17.82  1.75    Male     No   Sat  Dinner     2\n",
      "243       18.78  3.00  Female     No  Thur  Dinner     2\n",
      "\n",
      "[244 rows x 7 columns]\n"
     ]
    },
    {
     "data": {
      "text/plain": "<Figure size 640x480 with 1 Axes>",
      "image/png": "[encoded data removed]"
     },
     "metadata": {},
     "output_type": "display_data"
    }
   ],
   "source": [
    "import matplotlib.pyplot as plt\n",
    "import seaborn as sns\n",
    "import pandas as pd\n",
    "\n",
    "data = sns.load_dataset('tips')\n",
    "df = pd.DataFrame(data)\n",
    "print(df)\n",
    "df.plot(kind=\"scatter\", x=\"total_bill\", y=\"tip\", title=\"Total Bill vs Tip\")\n",
    "plt.show()"
   ],
   "metadata": {
    "collapsed": false
   }
  },
  {
   "cell_type": "code",
   "execution_count": 91,
   "outputs": [
    {
     "name": "stdout",
     "output_type": "stream",
     "text": [
      "     total_bill   tip     sex smoker   day    time  size\n",
      "0         16.99  1.01  Female     No   Sun  Dinner     2\n",
      "1         10.34  1.66    Male     No   Sun  Dinner     3\n",
      "2         21.01  3.50    Male     No   Sun  Dinner     3\n",
      "3         23.68  3.31    Male     No   Sun  Dinner     2\n",
      "4         24.59  3.61  Female     No   Sun  Dinner     4\n",
      "..          ...   ...     ...    ...   ...     ...   ...\n",
      "239       29.03  5.92    Male     No   Sat  Dinner     3\n",
      "240       27.18  2.00  Female    Yes   Sat  Dinner     2\n",
      "241       22.67  2.00    Male    Yes   Sat  Dinner     2\n",
      "242       17.82  1.75    Male     No   Sat  Dinner     2\n",
      "243       18.78  3.00  Female     No  Thur  Dinner     2\n",
      "\n",
      "[244 rows x 7 columns]\n"
     ]
    },
    {
     "data": {
      "text/plain": "<Figure size 640x480 with 1 Axes>",
      "image/png": "[encoded data removed]"
     },
     "metadata": {},
     "output_type": "display_data"
    }
   ],
   "source": [
    "import matplotlib.pyplot as plt\n",
    "import seaborn as sns\n",
    "import pandas as pd\n",
    "\n",
    "data = sns.load_dataset('tips')\n",
    "df = pd.DataFrame(data)\n",
    "print(df)\n",
    "df['total_bill'].plot(kind=\"hist\", title='Total_Bill')\n",
    "plt.show()"
   ],
   "metadata": {
    "collapsed": false
   }
  },
  {
   "cell_type": "code",
   "execution_count": 92,
   "outputs": [
    {
     "name": "stdout",
     "output_type": "stream",
     "text": [
      "     total_bill   tip     sex smoker   day    time  size\n",
      "0         16.99  1.01  Female     No   Sun  Dinner     2\n",
      "1         10.34  1.66    Male     No   Sun  Dinner     3\n",
      "2         21.01  3.50    Male     No   Sun  Dinner     3\n",
      "3         23.68  3.31    Male     No   Sun  Dinner     2\n",
      "4         24.59  3.61  Female     No   Sun  Dinner     4\n",
      "..          ...   ...     ...    ...   ...     ...   ...\n",
      "239       29.03  5.92    Male     No   Sat  Dinner     3\n",
      "240       27.18  2.00  Female    Yes   Sat  Dinner     2\n",
      "241       22.67  2.00    Male    Yes   Sat  Dinner     2\n",
      "242       17.82  1.75    Male     No   Sat  Dinner     2\n",
      "243       18.78  3.00  Female     No  Thur  Dinner     2\n",
      "\n",
      "[244 rows x 7 columns]\n"
     ]
    },
    {
     "data": {
      "text/plain": "<Figure size 640x480 with 1 Axes>",
      "image/png": "[encoded data removed]"
     },
     "metadata": {},
     "output_type": "display_data"
    }
   ],
   "source": [
    "import matplotlib.pyplot as plt\n",
    "import seaborn as sns\n",
    "import pandas as pd\n",
    "\n",
    "data = sns.load_dataset('tips')\n",
    "df = pd.DataFrame(data)\n",
    "print(df)\n",
    "df['total_bill'].plot(kind='box', title=\"Total Bill\")\n",
    "plt.show()"
   ],
   "metadata": {
    "collapsed": false
   }
  },
  {
   "cell_type": "code",
   "execution_count": 93,
   "outputs": [
    {
     "name": "stdout",
     "output_type": "stream",
     "text": [
      "     survived  pclass     sex   age  sibsp  parch     fare embarked   class  \\\n",
      "0           0       3    male  22.0      1      0   7.2500        S   Third   \n",
      "1           1       1  female  38.0      1      0  71.2833        C   First   \n",
      "2           1       3  female  26.0      0      0   7.9250        S   Third   \n",
      "3           1       1  female  35.0      1      0  53.1000        S   First   \n",
      "4           0       3    male  35.0      0      0   8.0500        S   Third   \n",
      "..        ...     ...     ...   ...    ...    ...      ...      ...     ...   \n",
      "886         0       2    male  27.0      0      0  13.0000        S  Second   \n",
      "887         1       1  female  19.0      0      0  30.0000        S   First   \n",
      "888         0       3  female   NaN      1      2  23.4500        S   Third   \n",
      "889         1       1    male  26.0      0      0  30.0000        C   First   \n",
      "890         0       3    male  32.0      0      0   7.7500        Q   Third   \n",
      "\n",
      "       who  adult_male deck  embark_town alive  alone  \n",
      "0      man        True  NaN  Southampton    no  False  \n",
      "1    woman       False    C    Cherbourg   yes  False  \n",
      "2    woman       False  NaN  Southampton   yes   True  \n",
      "3    woman       False    C  Southampton   yes  False  \n",
      "4      man        True  NaN  Southampton    no   True  \n",
      "..     ...         ...  ...          ...   ...    ...  \n",
      "886    man        True  NaN  Southampton    no   True  \n",
      "887  woman       False    B  Southampton   yes   True  \n",
      "888  woman       False  NaN  Southampton    no  False  \n",
      "889    man        True    C    Cherbourg   yes   True  \n",
      "890    man        True  NaN   Queenstown    no   True  \n",
      "\n",
      "[891 rows x 15 columns]\n"
     ]
    },
    {
     "data": {
      "text/plain": "<Figure size 640x480 with 1 Axes>",
      "image/png": "[encoded data removed]"
     },
     "metadata": {},
     "output_type": "display_data"
    }
   ],
   "source": [
    "import matplotlib.pyplot as plt\n",
    "import seaborn as sns\n",
    "import pandas as pd\n",
    "\n",
    "data = sns.load_dataset('titanic')\n",
    "df = pd.DataFrame(data)\n",
    "print(df)\n",
    "df['age'].plot(kind='kde', title='Dist. of Ages')\n",
    "plt.show()"
   ],
   "metadata": {
    "collapsed": false
   }
  }
 ],
 "metadata": {
  "kernelspec": {
   "display_name": "Python 3",
   "language": "python",
   "name": "python3"
  },
  "language_info": {
   "codemirror_mode": {
    "name": "ipython",
    "version": 2
   },
   "file_extension": ".py",
   "mimetype": "text/x-python",
   "name": "python",
   "nbconvert_exporter": "python",
   "pygments_lexer": "ipython2",
   "version": "2.7.6"
  }
 },
 "nbformat": 4,
 "nbformat_minor": 0
}
